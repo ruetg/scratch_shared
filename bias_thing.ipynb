{
 "cells": [
  {
   "cell_type": "code",
   "execution_count": 194,
   "id": "ea8ff834",
   "metadata": {},
   "outputs": [],
   "source": [
    "import numpy as np\n",
    "import matplotlib.pyplot as plt"
   ]
  },
  {
   "cell_type": "code",
   "execution_count": 195,
   "id": "fe523dd6",
   "metadata": {},
   "outputs": [],
   "source": []
  },
  {
   "cell_type": "code",
   "execution_count": 245,
   "id": "c2591bbf",
   "metadata": {},
   "outputs": [],
   "source": [
    "### If possibilities are all fairly likely, then theres no problem\n",
    "\n",
    "##Include an unlikely outcome, in this case a 1 in 2000000 probability of damage\n",
    "\n",
    "\n",
    "m = []\n",
    "m2 = []\n",
    "prices = []\n",
    "nsamples = 500\n",
    "for j in range(100):\n",
    "    price = np.random.rand(1)*1e6\n",
    "    prices.append(price)\n",
    "    p=[]\n",
    "    for i in range(1,nsamples):\n",
    "        dmg = np.random.randint(2)\n",
    "\n",
    "        if dmg:\n",
    "            cost = np.random.randint(2)\n",
    "            if cost == 0:\n",
    "                p.append(.5)\n",
    "            else:\n",
    "                p.append(1.0)\n",
    "                \n",
    "        else:\n",
    "            p.append(0)\n",
    "        \n",
    "    m2.append(price * .375)\n",
    "    \n",
    "    m.append(np.mean(p)* price)\n"
   ]
  },
  {
   "cell_type": "code",
   "execution_count": 246,
   "id": "36ae6c12",
   "metadata": {},
   "outputs": [
    {
     "data": {
      "text/plain": [
       "Text(0.5, 0, 'analytical')"
      ]
     },
     "execution_count": 246,
     "metadata": {},
     "output_type": "execute_result"
    },
    {
     "data": {
      "image/png": "[encoded data removed]",
      "text/plain": [
       "<Figure size 432x288 with 1 Axes>"
      ]
     },
     "metadata": {
      "needs_background": "light"
     },
     "output_type": "display_data"
    }
   ],
   "source": [
    "plt.plot(m2,m,'.')\n",
    "plt.plot(m,m,'.')\n",
    "plt.ylabel('modeled')\n",
    "plt.xlabel('analytical')"
   ]
  },
  {
   "cell_type": "code",
   "execution_count": 337,
   "id": "86b14089",
   "metadata": {},
   "outputs": [],
   "source": [
    "##Include an unlikely outcome, in this case a 1 in 2000000 probability of damage\n",
    "\n",
    "\n",
    "m = []\n",
    "m2 = []\n",
    "prices = []\n",
    "nsamples = 100\n",
    "prob = .000001\n",
    "for j in range(20):\n",
    "    price = np.random.rand(1)*1e6\n",
    "    prices.append(price)\n",
    "    p=[]\n",
    "    for i in range(1,nsamples):\n",
    "        dmg = np.random.randint(2)\n",
    "\n",
    "        if dmg == 1:\n",
    "            cost = np.random.randint(int(1/prob))\n",
    "            if cost == 1:\n",
    "                p.append(.1)\n",
    "            else:\n",
    "                p.append(1.0)\n",
    "        else:\n",
    "            p.append(0)\n",
    "        \n",
    "    m2.append(price * (.5 * (.2 * prob + (1-prob))))\n",
    "    \n",
    "    m.append(np.mean(p)* price)"
   ]
  },
  {
   "cell_type": "code",
   "execution_count": 338,
   "id": "bc183e8c",
   "metadata": {},
   "outputs": [
    {
     "data": {
      "text/plain": [
       "Text(0.5, 0, 'analytical')"
      ]
     },
     "execution_count": 338,
     "metadata": {},
     "output_type": "execute_result"
    },
    {
     "data": {
      "image/png": "[encoded data removed]",
      "text/plain": [
       "<Figure size 432x288 with 1 Axes>"
      ]
     },
     "metadata": {
      "needs_background": "light"
     },
     "output_type": "display_data"
    }
   ],
   "source": [
    "plt.plot(m2,m,'.')\n",
    "plt.plot(m,m,'.')\n",
    "plt.ylabel('modeled')\n",
    "plt.xlabel('analytical')"
   ]
  },
  {
   "cell_type": "code",
   "execution_count": 188,
   "id": "082b569f",
   "metadata": {},
   "outputs": [
    {
     "data": {
      "image/png": "[encoded data removed]",
      "text/plain": [
       "<Figure size 432x288 with 1 Axes>"
      ]
     },
     "metadata": {
      "needs_background": "light"
     },
     "output_type": "display_data"
    }
   ],
   "source": [
    "b = plt.hist(np.array(m))"
   ]
  },
  {
   "cell_type": "code",
   "execution_count": 191,
   "id": "c8801804",
   "metadata": {},
   "outputs": [
    {
     "data": {
      "text/plain": [
       "<BarContainer object of 10 artists>"
      ]
     },
     "execution_count": 191,
     "metadata": {},
     "output_type": "execute_result"
    }
   ],
   "source": [
    "b[2]"
   ]
  },
  {
   "cell_type": "code",
   "execution_count": 71,
   "id": "bf9281b0",
   "metadata": {},
   "outputs": [
    {
     "data": {
      "text/plain": [
       "366866.8668668669"
      ]
     },
     "execution_count": 71,
     "metadata": {},
     "output_type": "execute_result"
    }
   ],
   "source": [
    "np.mean(p)*1e6"
   ]
  },
  {
   "cell_type": "code",
   "execution_count": null,
   "id": "27b625dd",
   "metadata": {},
   "outputs": [],
   "source": []
  }
 ],
 "metadata": {
  "kernelspec": {
   "display_name": "Python 3 (ipykernel)",
   "language": "python",
   "name": "python3"
  },
  "language_info": {
   "codemirror_mode": {
    "name": "ipython",
    "version": 3
   },
   "file_extension": ".py",
   "mimetype": "text/x-python",
   "name": "python",
   "nbconvert_exporter": "python",
   "pygments_lexer": "ipython3",
   "version": "3.9.7"
  }
 },
 "nbformat": 4,
 "nbformat_minor": 5
}
